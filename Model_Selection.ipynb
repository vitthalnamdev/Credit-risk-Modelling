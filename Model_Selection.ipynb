{
 "cells": [
  {
   "cell_type": "markdown",
   "id": "b9ad9eae-1504-42dd-bf00-c3f495bc85ec",
   "metadata": {},
   "source": [
    "# 1. Import Libraries"
   ]
  },
  {
   "cell_type": "code",
   "execution_count": 1,
   "id": "8e73281f-ea49-40a1-82db-3591e6af08a7",
   "metadata": {},
   "outputs": [],
   "source": [
    "import numpy as np\n",
    "import pandas as pd\n",
    "import xgboost as xgb\n",
    "from sklearn.preprocessing import OrdinalEncoder, OneHotEncoder, LabelEncoder\n",
    "from sklearn.model_selection import train_test_split\n",
    "from sklearn.tree import DecisionTreeClassifier\n",
    "from sklearn.ensemble import RandomForestClassifier\n",
    "from sklearn.metrics import accuracy_score, precision_recall_fscore_support\n",
    "\n",
    "from sklearn.model_selection import GridSearchCV"
   ]
  },
  {
   "cell_type": "markdown",
   "id": "eacf48e1-1c1f-40c3-b99f-e96443e2a1df",
   "metadata": {},
   "source": [
    "# 2. Data Read"
   ]
  },
  {
   "cell_type": "code",
   "execution_count": 2,
   "id": "811a9c59-c1c0-42f8-9820-b562183b9637",
   "metadata": {},
   "outputs": [
    {
     "data": {
      "text/html": [
       "<div>\n",
       "<style scoped>\n",
       "    .dataframe tbody tr th:only-of-type {\n",
       "        vertical-align: middle;\n",
       "    }\n",
       "\n",
       "    .dataframe tbody tr th {\n",
       "        vertical-align: top;\n",
       "    }\n",
       "\n",
       "    .dataframe thead th {\n",
       "        text-align: right;\n",
       "    }\n",
       "</style>\n",
       "<table border=\"1\" class=\"dataframe\">\n",
       "  <thead>\n",
       "    <tr style=\"text-align: right;\">\n",
       "      <th></th>\n",
       "      <th>pct_tl_open_L6M</th>\n",
       "      <th>pct_tl_closed_L6M</th>\n",
       "      <th>Tot_TL_closed_L12M</th>\n",
       "      <th>pct_tl_closed_L12M</th>\n",
       "      <th>Tot_Missed_Pmnt</th>\n",
       "      <th>CC_TL</th>\n",
       "      <th>Home_TL</th>\n",
       "      <th>PL_TL</th>\n",
       "      <th>Secured_TL</th>\n",
       "      <th>Unsecured_TL</th>\n",
       "      <th>...</th>\n",
       "      <th>pct_PL_enq_L6m_of_ever</th>\n",
       "      <th>pct_CC_enq_L6m_of_ever</th>\n",
       "      <th>HL_Flag</th>\n",
       "      <th>GL_Flag</th>\n",
       "      <th>MARITALSTATUS</th>\n",
       "      <th>EDUCATION</th>\n",
       "      <th>GENDER</th>\n",
       "      <th>last_prod_enq2</th>\n",
       "      <th>first_prod_enq2</th>\n",
       "      <th>Approved_Flag</th>\n",
       "    </tr>\n",
       "  </thead>\n",
       "  <tbody>\n",
       "    <tr>\n",
       "      <th>0</th>\n",
       "      <td>0.000</td>\n",
       "      <td>0.0</td>\n",
       "      <td>0</td>\n",
       "      <td>0.000</td>\n",
       "      <td>0</td>\n",
       "      <td>0</td>\n",
       "      <td>0</td>\n",
       "      <td>4</td>\n",
       "      <td>1</td>\n",
       "      <td>4</td>\n",
       "      <td>...</td>\n",
       "      <td>0.000</td>\n",
       "      <td>0.0</td>\n",
       "      <td>1</td>\n",
       "      <td>0</td>\n",
       "      <td>Married</td>\n",
       "      <td>12TH</td>\n",
       "      <td>M</td>\n",
       "      <td>PL</td>\n",
       "      <td>PL</td>\n",
       "      <td>P2</td>\n",
       "    </tr>\n",
       "    <tr>\n",
       "      <th>1</th>\n",
       "      <td>0.000</td>\n",
       "      <td>0.0</td>\n",
       "      <td>0</td>\n",
       "      <td>0.000</td>\n",
       "      <td>0</td>\n",
       "      <td>0</td>\n",
       "      <td>0</td>\n",
       "      <td>0</td>\n",
       "      <td>0</td>\n",
       "      <td>1</td>\n",
       "      <td>...</td>\n",
       "      <td>0.000</td>\n",
       "      <td>0.0</td>\n",
       "      <td>0</td>\n",
       "      <td>0</td>\n",
       "      <td>Single</td>\n",
       "      <td>GRADUATE</td>\n",
       "      <td>F</td>\n",
       "      <td>ConsumerLoan</td>\n",
       "      <td>ConsumerLoan</td>\n",
       "      <td>P2</td>\n",
       "    </tr>\n",
       "    <tr>\n",
       "      <th>2</th>\n",
       "      <td>0.125</td>\n",
       "      <td>0.0</td>\n",
       "      <td>0</td>\n",
       "      <td>0.000</td>\n",
       "      <td>1</td>\n",
       "      <td>0</td>\n",
       "      <td>0</td>\n",
       "      <td>0</td>\n",
       "      <td>2</td>\n",
       "      <td>6</td>\n",
       "      <td>...</td>\n",
       "      <td>0.000</td>\n",
       "      <td>0.0</td>\n",
       "      <td>1</td>\n",
       "      <td>0</td>\n",
       "      <td>Married</td>\n",
       "      <td>SSC</td>\n",
       "      <td>M</td>\n",
       "      <td>ConsumerLoan</td>\n",
       "      <td>others</td>\n",
       "      <td>P2</td>\n",
       "    </tr>\n",
       "    <tr>\n",
       "      <th>3</th>\n",
       "      <td>0.000</td>\n",
       "      <td>0.0</td>\n",
       "      <td>0</td>\n",
       "      <td>0.000</td>\n",
       "      <td>0</td>\n",
       "      <td>0</td>\n",
       "      <td>0</td>\n",
       "      <td>0</td>\n",
       "      <td>3</td>\n",
       "      <td>0</td>\n",
       "      <td>...</td>\n",
       "      <td>0.000</td>\n",
       "      <td>0.0</td>\n",
       "      <td>0</td>\n",
       "      <td>0</td>\n",
       "      <td>Married</td>\n",
       "      <td>POST-GRADUATE</td>\n",
       "      <td>M</td>\n",
       "      <td>AL</td>\n",
       "      <td>AL</td>\n",
       "      <td>P1</td>\n",
       "    </tr>\n",
       "    <tr>\n",
       "      <th>4</th>\n",
       "      <td>0.000</td>\n",
       "      <td>0.0</td>\n",
       "      <td>1</td>\n",
       "      <td>0.167</td>\n",
       "      <td>0</td>\n",
       "      <td>0</td>\n",
       "      <td>0</td>\n",
       "      <td>0</td>\n",
       "      <td>6</td>\n",
       "      <td>0</td>\n",
       "      <td>...</td>\n",
       "      <td>0.429</td>\n",
       "      <td>0.0</td>\n",
       "      <td>1</td>\n",
       "      <td>0</td>\n",
       "      <td>Married</td>\n",
       "      <td>12TH</td>\n",
       "      <td>M</td>\n",
       "      <td>ConsumerLoan</td>\n",
       "      <td>PL</td>\n",
       "      <td>P3</td>\n",
       "    </tr>\n",
       "  </tbody>\n",
       "</table>\n",
       "<p>5 rows × 43 columns</p>\n",
       "</div>"
      ],
      "text/plain": [
       "   pct_tl_open_L6M  pct_tl_closed_L6M  Tot_TL_closed_L12M  pct_tl_closed_L12M  \\\n",
       "0            0.000                0.0                   0               0.000   \n",
       "1            0.000                0.0                   0               0.000   \n",
       "2            0.125                0.0                   0               0.000   \n",
       "3            0.000                0.0                   0               0.000   \n",
       "4            0.000                0.0                   1               0.167   \n",
       "\n",
       "   Tot_Missed_Pmnt  CC_TL  Home_TL  PL_TL  Secured_TL  Unsecured_TL  ...  \\\n",
       "0                0      0        0      4           1             4  ...   \n",
       "1                0      0        0      0           0             1  ...   \n",
       "2                1      0        0      0           2             6  ...   \n",
       "3                0      0        0      0           3             0  ...   \n",
       "4                0      0        0      0           6             0  ...   \n",
       "\n",
       "   pct_PL_enq_L6m_of_ever  pct_CC_enq_L6m_of_ever  HL_Flag  GL_Flag  \\\n",
       "0                   0.000                     0.0        1        0   \n",
       "1                   0.000                     0.0        0        0   \n",
       "2                   0.000                     0.0        1        0   \n",
       "3                   0.000                     0.0        0        0   \n",
       "4                   0.429                     0.0        1        0   \n",
       "\n",
       "   MARITALSTATUS      EDUCATION  GENDER  last_prod_enq2  first_prod_enq2  \\\n",
       "0        Married           12TH       M              PL               PL   \n",
       "1         Single       GRADUATE       F    ConsumerLoan     ConsumerLoan   \n",
       "2        Married            SSC       M    ConsumerLoan           others   \n",
       "3        Married  POST-GRADUATE       M              AL               AL   \n",
       "4        Married           12TH       M    ConsumerLoan               PL   \n",
       "\n",
       "   Approved_Flag  \n",
       "0             P2  \n",
       "1             P2  \n",
       "2             P2  \n",
       "3             P1  \n",
       "4             P3  \n",
       "\n",
       "[5 rows x 43 columns]"
      ]
     },
     "execution_count": 2,
     "metadata": {},
     "output_type": "execute_result"
    }
   ],
   "source": [
    "df = pd.read_csv('cleaned_data.csv')\n",
    "df.head()"
   ]
  },
  {
   "cell_type": "code",
   "execution_count": 3,
   "id": "4a81c8f7-25fc-4095-8e39-d2f12203b8df",
   "metadata": {},
   "outputs": [
    {
     "data": {
      "text/plain": [
       "(42064, 43)"
      ]
     },
     "execution_count": 3,
     "metadata": {},
     "output_type": "execute_result"
    }
   ],
   "source": [
    "df.shape"
   ]
  },
  {
   "cell_type": "markdown",
   "id": "e4bbc150-201a-49ee-abdd-c636acf13d76",
   "metadata": {},
   "source": [
    "# 3. Data Preprocessing"
   ]
  },
  {
   "cell_type": "code",
   "execution_count": 4,
   "id": "7cf03708-044c-4b5f-a6cf-1ce213dbe77e",
   "metadata": {},
   "outputs": [],
   "source": [
    "cat_var = []\n",
    "for i in df.columns:\n",
    "    if df[i].dtype == 'object':\n",
    "        cat_var.append(i)"
   ]
  },
  {
   "cell_type": "code",
   "execution_count": 5,
   "id": "f607892f-7f0e-4a34-9df6-d0c1dc4a7419",
   "metadata": {},
   "outputs": [
    {
     "data": {
      "text/plain": [
       "['MARITALSTATUS',\n",
       " 'EDUCATION',\n",
       " 'GENDER',\n",
       " 'last_prod_enq2',\n",
       " 'first_prod_enq2',\n",
       " 'Approved_Flag']"
      ]
     },
     "execution_count": 5,
     "metadata": {},
     "output_type": "execute_result"
    }
   ],
   "source": [
    "cat_var"
   ]
  },
  {
   "cell_type": "code",
   "execution_count": 6,
   "id": "c2f61003-8935-4b1d-bc21-29389d830678",
   "metadata": {},
   "outputs": [
    {
     "data": {
      "text/plain": [
       "array(['12TH', 'GRADUATE', 'SSC', 'POST-GRADUATE', 'UNDER GRADUATE',\n",
       "       'OTHERS', 'PROFESSIONAL'], dtype=object)"
      ]
     },
     "execution_count": 6,
     "metadata": {},
     "output_type": "execute_result"
    }
   ],
   "source": [
    "df['EDUCATION'].unique()"
   ]
  },
  {
   "cell_type": "code",
   "execution_count": 7,
   "id": "67494857-8860-4875-9906-e544a1b9b8c7",
   "metadata": {},
   "outputs": [],
   "source": [
    "# ordinal encoding for education\n",
    "\n",
    "df.loc[df['EDUCATION']=='SSC', ['EDUCATION']] = 1\n",
    "df.loc[df['EDUCATION']=='12TH', ['EDUCATION']] = 2\n",
    "df.loc[df['EDUCATION']=='GRADUATE', ['EDUCATION']] = 3\n",
    "df.loc[df['EDUCATION']=='UNDER GRADUATE', ['EDUCATION']] = 3\n",
    "df.loc[df['EDUCATION']=='POST-GRADUATE', ['EDUCATION']] = 4\n",
    "df.loc[df['EDUCATION']=='OTHERS', ['EDUCATION']] = 1\n",
    "df.loc[df['EDUCATION']=='PROFESSIONAL',['EDUCATION']] = 3       "
   ]
  },
  {
   "cell_type": "code",
   "execution_count": 8,
   "id": "902d612e-87c4-4375-9f8c-8acda21822da",
   "metadata": {},
   "outputs": [
    {
     "data": {
      "text/plain": [
       "dtype('O')"
      ]
     },
     "execution_count": 8,
     "metadata": {},
     "output_type": "execute_result"
    }
   ],
   "source": [
    "df['EDUCATION'].dtype"
   ]
  },
  {
   "cell_type": "code",
   "execution_count": 9,
   "id": "3e35f4ab-1be9-4642-981f-15f57c5ae28e",
   "metadata": {},
   "outputs": [],
   "source": [
    "df['EDUCATION'].value_counts()\n",
    "df['EDUCATION'] = df['EDUCATION'].astype(int)"
   ]
  },
  {
   "cell_type": "code",
   "execution_count": 10,
   "id": "557a00f5-37fc-48ef-9bb9-30074ee52e41",
   "metadata": {},
   "outputs": [
    {
     "data": {
      "text/plain": [
       "dtype('int64')"
      ]
     },
     "execution_count": 10,
     "metadata": {},
     "output_type": "execute_result"
    }
   ],
   "source": [
    "df['EDUCATION'].dtype"
   ]
  },
  {
   "cell_type": "code",
   "execution_count": 11,
   "id": "d3a4435f-b611-4590-9453-5cd3e44ce38e",
   "metadata": {},
   "outputs": [
    {
     "data": {
      "text/plain": [
       "array(['Married', 'Single'], dtype=object)"
      ]
     },
     "execution_count": 11,
     "metadata": {},
     "output_type": "execute_result"
    }
   ],
   "source": [
    "df['MARITALSTATUS'].unique()"
   ]
  },
  {
   "cell_type": "code",
   "execution_count": 12,
   "id": "8066452c-f162-4c7a-aaa4-c8ca883ed010",
   "metadata": {},
   "outputs": [
    {
     "data": {
      "text/plain": [
       "array(['M', 'F'], dtype=object)"
      ]
     },
     "execution_count": 12,
     "metadata": {},
     "output_type": "execute_result"
    }
   ],
   "source": [
    "df['GENDER'].unique()"
   ]
  },
  {
   "cell_type": "code",
   "execution_count": 13,
   "id": "c08696ba-e830-467d-915e-d836910d4c8f",
   "metadata": {},
   "outputs": [
    {
     "data": {
      "text/plain": [
       "array(['PL', 'ConsumerLoan', 'AL', 'CC', 'others', 'HL'], dtype=object)"
      ]
     },
     "execution_count": 13,
     "metadata": {},
     "output_type": "execute_result"
    }
   ],
   "source": [
    "df['last_prod_enq2'].unique()"
   ]
  },
  {
   "cell_type": "code",
   "execution_count": 14,
   "id": "b4263503-ec0c-408b-b5ef-37c71492a619",
   "metadata": {},
   "outputs": [
    {
     "data": {
      "text/plain": [
       "array(['PL', 'ConsumerLoan', 'others', 'AL', 'HL', 'CC'], dtype=object)"
      ]
     },
     "execution_count": 14,
     "metadata": {},
     "output_type": "execute_result"
    }
   ],
   "source": [
    "df['first_prod_enq2'].unique()"
   ]
  },
  {
   "cell_type": "code",
   "execution_count": 15,
   "id": "62d462c9-358c-4dd9-9af2-5e20fbf5393b",
   "metadata": {},
   "outputs": [],
   "source": [
    "# remaining all categorical columns encoded through onehot encoding\n",
    "df_encoded = pd.get_dummies(df, columns=['MARITALSTATUS','GENDER','last_prod_enq2','first_prod_enq2'], dtype='int')"
   ]
  },
  {
   "cell_type": "code",
   "execution_count": 16,
   "id": "1f4b2cd7-6538-4c55-9da1-651d712ed3fb",
   "metadata": {},
   "outputs": [
    {
     "data": {
      "text/html": [
       "<div>\n",
       "<style scoped>\n",
       "    .dataframe tbody tr th:only-of-type {\n",
       "        vertical-align: middle;\n",
       "    }\n",
       "\n",
       "    .dataframe tbody tr th {\n",
       "        vertical-align: top;\n",
       "    }\n",
       "\n",
       "    .dataframe thead th {\n",
       "        text-align: right;\n",
       "    }\n",
       "</style>\n",
       "<table border=\"1\" class=\"dataframe\">\n",
       "  <thead>\n",
       "    <tr style=\"text-align: right;\">\n",
       "      <th></th>\n",
       "      <th>pct_tl_open_L6M</th>\n",
       "      <th>pct_tl_closed_L6M</th>\n",
       "      <th>Tot_TL_closed_L12M</th>\n",
       "      <th>pct_tl_closed_L12M</th>\n",
       "      <th>Tot_Missed_Pmnt</th>\n",
       "      <th>CC_TL</th>\n",
       "      <th>Home_TL</th>\n",
       "      <th>PL_TL</th>\n",
       "      <th>Secured_TL</th>\n",
       "      <th>Unsecured_TL</th>\n",
       "      <th>...</th>\n",
       "      <th>last_prod_enq2_ConsumerLoan</th>\n",
       "      <th>last_prod_enq2_HL</th>\n",
       "      <th>last_prod_enq2_PL</th>\n",
       "      <th>last_prod_enq2_others</th>\n",
       "      <th>first_prod_enq2_AL</th>\n",
       "      <th>first_prod_enq2_CC</th>\n",
       "      <th>first_prod_enq2_ConsumerLoan</th>\n",
       "      <th>first_prod_enq2_HL</th>\n",
       "      <th>first_prod_enq2_PL</th>\n",
       "      <th>first_prod_enq2_others</th>\n",
       "    </tr>\n",
       "  </thead>\n",
       "  <tbody>\n",
       "    <tr>\n",
       "      <th>0</th>\n",
       "      <td>0.000</td>\n",
       "      <td>0.0</td>\n",
       "      <td>0</td>\n",
       "      <td>0.000</td>\n",
       "      <td>0</td>\n",
       "      <td>0</td>\n",
       "      <td>0</td>\n",
       "      <td>4</td>\n",
       "      <td>1</td>\n",
       "      <td>4</td>\n",
       "      <td>...</td>\n",
       "      <td>0</td>\n",
       "      <td>0</td>\n",
       "      <td>1</td>\n",
       "      <td>0</td>\n",
       "      <td>0</td>\n",
       "      <td>0</td>\n",
       "      <td>0</td>\n",
       "      <td>0</td>\n",
       "      <td>1</td>\n",
       "      <td>0</td>\n",
       "    </tr>\n",
       "    <tr>\n",
       "      <th>1</th>\n",
       "      <td>0.000</td>\n",
       "      <td>0.0</td>\n",
       "      <td>0</td>\n",
       "      <td>0.000</td>\n",
       "      <td>0</td>\n",
       "      <td>0</td>\n",
       "      <td>0</td>\n",
       "      <td>0</td>\n",
       "      <td>0</td>\n",
       "      <td>1</td>\n",
       "      <td>...</td>\n",
       "      <td>1</td>\n",
       "      <td>0</td>\n",
       "      <td>0</td>\n",
       "      <td>0</td>\n",
       "      <td>0</td>\n",
       "      <td>0</td>\n",
       "      <td>1</td>\n",
       "      <td>0</td>\n",
       "      <td>0</td>\n",
       "      <td>0</td>\n",
       "    </tr>\n",
       "    <tr>\n",
       "      <th>2</th>\n",
       "      <td>0.125</td>\n",
       "      <td>0.0</td>\n",
       "      <td>0</td>\n",
       "      <td>0.000</td>\n",
       "      <td>1</td>\n",
       "      <td>0</td>\n",
       "      <td>0</td>\n",
       "      <td>0</td>\n",
       "      <td>2</td>\n",
       "      <td>6</td>\n",
       "      <td>...</td>\n",
       "      <td>1</td>\n",
       "      <td>0</td>\n",
       "      <td>0</td>\n",
       "      <td>0</td>\n",
       "      <td>0</td>\n",
       "      <td>0</td>\n",
       "      <td>0</td>\n",
       "      <td>0</td>\n",
       "      <td>0</td>\n",
       "      <td>1</td>\n",
       "    </tr>\n",
       "    <tr>\n",
       "      <th>3</th>\n",
       "      <td>0.000</td>\n",
       "      <td>0.0</td>\n",
       "      <td>0</td>\n",
       "      <td>0.000</td>\n",
       "      <td>0</td>\n",
       "      <td>0</td>\n",
       "      <td>0</td>\n",
       "      <td>0</td>\n",
       "      <td>3</td>\n",
       "      <td>0</td>\n",
       "      <td>...</td>\n",
       "      <td>0</td>\n",
       "      <td>0</td>\n",
       "      <td>0</td>\n",
       "      <td>0</td>\n",
       "      <td>1</td>\n",
       "      <td>0</td>\n",
       "      <td>0</td>\n",
       "      <td>0</td>\n",
       "      <td>0</td>\n",
       "      <td>0</td>\n",
       "    </tr>\n",
       "    <tr>\n",
       "      <th>4</th>\n",
       "      <td>0.000</td>\n",
       "      <td>0.0</td>\n",
       "      <td>1</td>\n",
       "      <td>0.167</td>\n",
       "      <td>0</td>\n",
       "      <td>0</td>\n",
       "      <td>0</td>\n",
       "      <td>0</td>\n",
       "      <td>6</td>\n",
       "      <td>0</td>\n",
       "      <td>...</td>\n",
       "      <td>1</td>\n",
       "      <td>0</td>\n",
       "      <td>0</td>\n",
       "      <td>0</td>\n",
       "      <td>0</td>\n",
       "      <td>0</td>\n",
       "      <td>0</td>\n",
       "      <td>0</td>\n",
       "      <td>1</td>\n",
       "      <td>0</td>\n",
       "    </tr>\n",
       "  </tbody>\n",
       "</table>\n",
       "<p>5 rows × 55 columns</p>\n",
       "</div>"
      ],
      "text/plain": [
       "   pct_tl_open_L6M  pct_tl_closed_L6M  Tot_TL_closed_L12M  pct_tl_closed_L12M  \\\n",
       "0            0.000                0.0                   0               0.000   \n",
       "1            0.000                0.0                   0               0.000   \n",
       "2            0.125                0.0                   0               0.000   \n",
       "3            0.000                0.0                   0               0.000   \n",
       "4            0.000                0.0                   1               0.167   \n",
       "\n",
       "   Tot_Missed_Pmnt  CC_TL  Home_TL  PL_TL  Secured_TL  Unsecured_TL  ...  \\\n",
       "0                0      0        0      4           1             4  ...   \n",
       "1                0      0        0      0           0             1  ...   \n",
       "2                1      0        0      0           2             6  ...   \n",
       "3                0      0        0      0           3             0  ...   \n",
       "4                0      0        0      0           6             0  ...   \n",
       "\n",
       "   last_prod_enq2_ConsumerLoan  last_prod_enq2_HL  last_prod_enq2_PL  \\\n",
       "0                            0                  0                  1   \n",
       "1                            1                  0                  0   \n",
       "2                            1                  0                  0   \n",
       "3                            0                  0                  0   \n",
       "4                            1                  0                  0   \n",
       "\n",
       "   last_prod_enq2_others  first_prod_enq2_AL  first_prod_enq2_CC  \\\n",
       "0                      0                   0                   0   \n",
       "1                      0                   0                   0   \n",
       "2                      0                   0                   0   \n",
       "3                      0                   1                   0   \n",
       "4                      0                   0                   0   \n",
       "\n",
       "   first_prod_enq2_ConsumerLoan  first_prod_enq2_HL  first_prod_enq2_PL  \\\n",
       "0                             0                   0                   1   \n",
       "1                             1                   0                   0   \n",
       "2                             0                   0                   0   \n",
       "3                             0                   0                   0   \n",
       "4                             0                   0                   1   \n",
       "\n",
       "   first_prod_enq2_others  \n",
       "0                       0  \n",
       "1                       0  \n",
       "2                       1  \n",
       "3                       0  \n",
       "4                       0  \n",
       "\n",
       "[5 rows x 55 columns]"
      ]
     },
     "execution_count": 16,
     "metadata": {},
     "output_type": "execute_result"
    }
   ],
   "source": [
    "df_encoded.head()"
   ]
  },
  {
   "cell_type": "code",
   "execution_count": 17,
   "id": "2fb2ab3f-f3c8-4476-8d81-073904749933",
   "metadata": {},
   "outputs": [
    {
     "data": {
      "text/plain": [
       "(42064, 55)"
      ]
     },
     "execution_count": 17,
     "metadata": {},
     "output_type": "execute_result"
    }
   ],
   "source": [
    "df_encoded.shape"
   ]
  },
  {
   "cell_type": "code",
   "execution_count": 18,
   "id": "d86b08ed-ceb3-4308-9b42-e689495d8f7f",
   "metadata": {},
   "outputs": [
    {
     "name": "stdout",
     "output_type": "stream",
     "text": [
      "<class 'pandas.core.frame.DataFrame'>\n",
      "RangeIndex: 42064 entries, 0 to 42063\n",
      "Data columns (total 55 columns):\n",
      " #   Column                        Non-Null Count  Dtype  \n",
      "---  ------                        --------------  -----  \n",
      " 0   pct_tl_open_L6M               42064 non-null  float64\n",
      " 1   pct_tl_closed_L6M             42064 non-null  float64\n",
      " 2   Tot_TL_closed_L12M            42064 non-null  int64  \n",
      " 3   pct_tl_closed_L12M            42064 non-null  float64\n",
      " 4   Tot_Missed_Pmnt               42064 non-null  int64  \n",
      " 5   CC_TL                         42064 non-null  int64  \n",
      " 6   Home_TL                       42064 non-null  int64  \n",
      " 7   PL_TL                         42064 non-null  int64  \n",
      " 8   Secured_TL                    42064 non-null  int64  \n",
      " 9   Unsecured_TL                  42064 non-null  int64  \n",
      " 10  Other_TL                      42064 non-null  int64  \n",
      " 11  Age_Oldest_TL                 42064 non-null  int64  \n",
      " 12  Age_Newest_TL                 42064 non-null  int64  \n",
      " 13  time_since_recent_payment     42064 non-null  int64  \n",
      " 14  max_recent_level_of_deliq     42064 non-null  int64  \n",
      " 15  num_deliq_6_12mts             42064 non-null  int64  \n",
      " 16  num_times_60p_dpd             42064 non-null  int64  \n",
      " 17  num_std_12mts                 42064 non-null  int64  \n",
      " 18  num_sub                       42064 non-null  int64  \n",
      " 19  num_sub_6mts                  42064 non-null  int64  \n",
      " 20  num_sub_12mts                 42064 non-null  int64  \n",
      " 21  num_dbt                       42064 non-null  int64  \n",
      " 22  num_dbt_12mts                 42064 non-null  int64  \n",
      " 23  num_lss                       42064 non-null  int64  \n",
      " 24  recent_level_of_deliq         42064 non-null  int64  \n",
      " 25  CC_enq_L12m                   42064 non-null  int64  \n",
      " 26  PL_enq_L12m                   42064 non-null  int64  \n",
      " 27  time_since_recent_enq         42064 non-null  int64  \n",
      " 28  enq_L3m                       42064 non-null  int64  \n",
      " 29  NETMONTHLYINCOME              42064 non-null  int64  \n",
      " 30  Time_With_Curr_Empr           42064 non-null  int64  \n",
      " 31  CC_Flag                       42064 non-null  int64  \n",
      " 32  PL_Flag                       42064 non-null  int64  \n",
      " 33  pct_PL_enq_L6m_of_ever        42064 non-null  float64\n",
      " 34  pct_CC_enq_L6m_of_ever        42064 non-null  float64\n",
      " 35  HL_Flag                       42064 non-null  int64  \n",
      " 36  GL_Flag                       42064 non-null  int64  \n",
      " 37  EDUCATION                     42064 non-null  int64  \n",
      " 38  Approved_Flag                 42064 non-null  object \n",
      " 39  MARITALSTATUS_Married         42064 non-null  int64  \n",
      " 40  MARITALSTATUS_Single          42064 non-null  int64  \n",
      " 41  GENDER_F                      42064 non-null  int64  \n",
      " 42  GENDER_M                      42064 non-null  int64  \n",
      " 43  last_prod_enq2_AL             42064 non-null  int64  \n",
      " 44  last_prod_enq2_CC             42064 non-null  int64  \n",
      " 45  last_prod_enq2_ConsumerLoan   42064 non-null  int64  \n",
      " 46  last_prod_enq2_HL             42064 non-null  int64  \n",
      " 47  last_prod_enq2_PL             42064 non-null  int64  \n",
      " 48  last_prod_enq2_others         42064 non-null  int64  \n",
      " 49  first_prod_enq2_AL            42064 non-null  int64  \n",
      " 50  first_prod_enq2_CC            42064 non-null  int64  \n",
      " 51  first_prod_enq2_ConsumerLoan  42064 non-null  int64  \n",
      " 52  first_prod_enq2_HL            42064 non-null  int64  \n",
      " 53  first_prod_enq2_PL            42064 non-null  int64  \n",
      " 54  first_prod_enq2_others        42064 non-null  int64  \n",
      "dtypes: float64(5), int64(49), object(1)\n",
      "memory usage: 17.7+ MB\n"
     ]
    }
   ],
   "source": [
    "df_encoded.info()"
   ]
  },
  {
   "cell_type": "code",
   "execution_count": 19,
   "id": "7521a89a-0fee-488e-8575-b14bb3b97c70",
   "metadata": {},
   "outputs": [],
   "source": [
    "X = df_encoded.drop(['Approved_Flag'], axis=1)\n",
    "y = df_encoded['Approved_Flag']"
   ]
  },
  {
   "cell_type": "code",
   "execution_count": 20,
   "id": "cd71f4e2-880e-4af0-9363-8cb9eb4c9aad",
   "metadata": {},
   "outputs": [
    {
     "name": "stdout",
     "output_type": "stream",
     "text": [
      "(33651, 54) (8413, 54)\n"
     ]
    }
   ],
   "source": [
    "X_train, X_test, y_train, y_test = train_test_split(X, y, test_size=0.2, random_state=42)\n",
    "print(X_train.shape, X_test.shape)"
   ]
  },
  {
   "cell_type": "markdown",
   "id": "065c7713-76b6-4946-b103-2f2717b81155",
   "metadata": {},
   "source": [
    "# 4. Model Selection"
   ]
  },
  {
   "cell_type": "markdown",
   "id": "9be8748a-6ddb-4fce-b06d-be74939d1e73",
   "metadata": {},
   "source": [
    "## 4.1 Decision Tree "
   ]
  },
  {
   "cell_type": "code",
   "execution_count": 21,
   "id": "ab970a62-a782-4e72-97fa-5911f5961c6c",
   "metadata": {},
   "outputs": [],
   "source": [
    "dtree_model = DecisionTreeClassifier(criterion='gini', max_depth=8, min_samples_split=10)\n",
    "dtree_model.fit(X_train, y_train)\n",
    "y_pred = dtree_model.predict(X_test)"
   ]
  },
  {
   "cell_type": "code",
   "execution_count": 22,
   "id": "d377be8a-6b54-44d6-ba85-8a5fdb78fcf3",
   "metadata": {},
   "outputs": [
    {
     "name": "stdout",
     "output_type": "stream",
     "text": [
      "\n",
      "Accuracy: 0.76\n",
      "\n",
      "class p1:\n",
      "Precision: 0.8029612756264237\n",
      "Recall: 0.6952662721893491\n",
      "F1-Score: 0.7452431289640592\n",
      "\n",
      "class p2:\n",
      "Precision: 0.8013268156424581\n",
      "Recall: 0.9098116947472745\n",
      "F1-Score: 0.8521303258145363\n",
      "\n",
      "class p3:\n",
      "Precision: 0.4262295081967213\n",
      "Recall: 0.2747169811320755\n",
      "F1-Score: 0.3340982101881597\n",
      "\n",
      "class p4:\n",
      "Precision: 0.7355718782791185\n",
      "Recall: 0.6812439261418853\n",
      "F1-Score: 0.7073662966700303\n",
      "\n"
     ]
    }
   ],
   "source": [
    "accuracy = accuracy_score(y_test, y_pred)\n",
    "print()\n",
    "print(f'Accuracy: {accuracy:.2f}')\n",
    "print()\n",
    "\n",
    "precision, recall, f1_score, _ = precision_recall_fscore_support(y_test, y_pred)\n",
    "\n",
    "for i, v in enumerate(['p1', 'p2', 'p3', 'p4']):\n",
    "    print(f\"class {v}:\")\n",
    "    print(f\"Precision: {precision[i]}\")\n",
    "    print(f\"Recall: {recall[i]}\")\n",
    "    print(f\"F1-Score: {f1_score[i]}\")\n",
    "    print()"
   ]
  },
  {
   "cell_type": "markdown",
   "id": "6ff39099-4f94-4292-9170-e3a455cb48ec",
   "metadata": {},
   "source": [
    "## 4.2 RandomForest Classifier"
   ]
  },
  {
   "cell_type": "code",
   "execution_count": 23,
   "id": "1871d637-6267-4ae5-a3a5-70ecfdbcc991",
   "metadata": {},
   "outputs": [],
   "source": [
    "rnd_forest = RandomForestClassifier(n_estimators=100)\n",
    "rnd_forest.fit(X_train, y_train)\n",
    "y_pred = rnd_forest.predict(X_test)"
   ]
  },
  {
   "cell_type": "code",
   "execution_count": 24,
   "id": "b61c39de-bce1-42dc-9164-ca0dff3a644f",
   "metadata": {},
   "outputs": [
    {
     "name": "stdout",
     "output_type": "stream",
     "text": [
      "\n",
      "Accuracy: 0.76\n",
      "\n",
      "class p1:\n",
      "Precision: 0.8337264150943396\n",
      "Recall: 0.6972386587771203\n",
      "F1-Score: 0.7593984962406015\n",
      "\n",
      "class p2:\n",
      "Precision: 0.7942973523421588\n",
      "Recall: 0.9276511397423192\n",
      "F1-Score: 0.8558105513394898\n",
      "\n",
      "class p3:\n",
      "Precision: 0.4323076923076923\n",
      "Recall: 0.2120754716981132\n",
      "F1-Score: 0.28455696202531644\n",
      "\n",
      "class p4:\n",
      "Precision: 0.718475073313783\n",
      "Recall: 0.7142857142857143\n",
      "F1-Score: 0.716374269005848\n",
      "\n"
     ]
    }
   ],
   "source": [
    "accuracy = accuracy_score(y_test, y_pred)\n",
    "print()\n",
    "print(f'Accuracy: {accuracy:.2f}')\n",
    "print()\n",
    "\n",
    "precision, recall, f1_score, _ = precision_recall_fscore_support(y_test, y_pred)\n",
    "\n",
    "for i, v in enumerate(['p1', 'p2', 'p3', 'p4']):\n",
    "    print(f\"class {v}:\")\n",
    "    print(f\"Precision: {precision[i]}\")\n",
    "    print(f\"Recall: {recall[i]}\")\n",
    "    print(f\"F1-Score: {f1_score[i]}\")\n",
    "    print()"
   ]
  },
  {
   "cell_type": "markdown",
   "id": "0533a1aa-11c4-4a1f-bfee-5f92cb6bd0b1",
   "metadata": {},
   "source": [
    "## 4.3 Xgboost"
   ]
  },
  {
   "cell_type": "code",
   "execution_count": 25,
   "id": "0923178a-b927-4e25-bcfd-0a877a923b52",
   "metadata": {},
   "outputs": [],
   "source": [
    "xgb_classifier = xgb.XGBClassifier(objective='multi:softmax',  \n",
    "                                   num_class=4,\n",
    "                                  colsample_bytree=0.3,\n",
    "                                  learning_rate=0.1,\n",
    "                                  max_depth=8, \n",
    "                                  alpha=10,\n",
    "                                  n_estimators=100)"
   ]
  },
  {
   "cell_type": "code",
   "execution_count": 26,
   "id": "df00fcb8-acc3-4bb3-89c3-7b2b8426dfd7",
   "metadata": {},
   "outputs": [],
   "source": [
    "label_encoder = LabelEncoder()\n",
    "y_encoded = label_encoder.fit_transform(y)"
   ]
  },
  {
   "cell_type": "code",
   "execution_count": 27,
   "id": "50297fc8-efc1-4adb-8a9a-93aa3e8bf7ef",
   "metadata": {},
   "outputs": [],
   "source": [
    "X_train, X_test, y_train, y_test = train_test_split(X, y_encoded, test_size=0.2, random_state=42)"
   ]
  },
  {
   "cell_type": "code",
   "execution_count": 28,
   "id": "1a8dc328-df67-4e93-9bf1-809421f186d7",
   "metadata": {},
   "outputs": [],
   "source": [
    "xgb_classifier.fit(X_train, y_train)\n",
    "y_pred = xgb_classifier.predict(X_test)"
   ]
  },
  {
   "cell_type": "code",
   "execution_count": 29,
   "id": "d7396960-0f23-430c-a4c8-658affb16fb1",
   "metadata": {},
   "outputs": [
    {
     "name": "stdout",
     "output_type": "stream",
     "text": [
      "\n",
      "Accuracy: 0.77\n",
      "\n",
      "class p1:\n",
      "Precision: 0.8409610983981693\n",
      "Recall: 0.7248520710059172\n",
      "F1-Score: 0.7786016949152542\n",
      "\n",
      "class p2:\n",
      "Precision: 0.7995927371457662\n",
      "Recall: 0.933994053518335\n",
      "F1-Score: 0.8615834704699213\n",
      "\n",
      "class p3:\n",
      "Precision: 0.4535928143712575\n",
      "Recall: 0.22867924528301886\n",
      "F1-Score: 0.30406422478675366\n",
      "\n",
      "class p4:\n",
      "Precision: 0.7464212678936605\n",
      "Recall: 0.7094266277939747\n",
      "F1-Score: 0.7274539113104136\n",
      "\n"
     ]
    }
   ],
   "source": [
    "accuracy = accuracy_score(y_test, y_pred)\n",
    "print()\n",
    "print(f'Accuracy: {accuracy:.2f}')\n",
    "print()\n",
    "\n",
    "precision, recall, f1_score, _ = precision_recall_fscore_support(y_test, y_pred)\n",
    "\n",
    "for i, v in enumerate(['p1', 'p2', 'p3', 'p4']):\n",
    "    print(f\"class {v}:\")\n",
    "    print(f\"Precision: {precision[i]}\")\n",
    "    print(f\"Recall: {recall[i]}\")\n",
    "    print(f\"F1-Score: {f1_score[i]}\")\n",
    "    print()"
   ]
  },
  {
   "cell_type": "markdown",
   "id": "f66e3ea7-3f02-4054-b3ad-7056daffb748",
   "metadata": {},
   "source": [
    "- After using these classifier we figure out xgboost is selected for good estimator among three classifier"
   ]
  },
  {
   "cell_type": "code",
   "execution_count": 30,
   "id": "813acdf8-6f25-462e-9b8b-270b84de5da8",
   "metadata": {},
   "outputs": [
    {
     "data": {
      "text/plain": [
       "Approved_Flag\n",
       "P2    25452\n",
       "P3     6440\n",
       "P4     5264\n",
       "P1     4908\n",
       "Name: count, dtype: int64"
      ]
     },
     "execution_count": 30,
     "metadata": {},
     "output_type": "execute_result"
    }
   ],
   "source": [
    "df_encoded['Approved_Flag'].value_counts()"
   ]
  },
  {
   "cell_type": "markdown",
   "id": "0fbbaf09-6105-4162-9f72-7ffeb5c77cbf",
   "metadata": {},
   "source": [
    "- in our case proportion of P1 is approximately 12%. then we assumed that our data is balanced. And due to this we highly focused on accuracy_score.\n",
    "- if our data is imbalanced then we need to get maximized f1-score"
   ]
  },
  {
   "cell_type": "markdown",
   "id": "10abffcd-f864-4bcb-bfa7-f314839c0586",
   "metadata": {},
   "source": [
    "# 5. HyperParameter Tuning"
   ]
  },
  {
   "cell_type": "markdown",
   "id": "e6f33c44-327a-4876-86d7-a4dc6723d1b4",
   "metadata": {},
   "source": [
    "#### a brief explanation of the hyperparameters listed in your param_grid:\n",
    "\n",
    "1. colsample_bytree: This parameter specifies the fraction of features (columns) to be randomly sampled for each tree in the model. It helps in reducing overfitting by ensuring that not all features are used for building each tree, thus introducing more randomness.\n",
    "\n",
    "2. learning_rate: Also known as the shrinkage factor, this parameter scales the contribution of each tree. A lower learning rate means the model will learn more slowly but potentially more accurately, as it helps in fine-tuning the model by updating weights in smaller steps.\n",
    "\n",
    "3. max_depth: This parameter determines the maximum depth of each tree. Increasing the depth allows the model to capture more complex patterns but also increases the risk of overfitting. Shallower trees are more robust to noise but might underfit the data.\n",
    "\n",
    "4. alpha: This is the L1 regularization term on weights. It adds a penalty equal to the absolute value of the magnitude of coefficients, encouraging the model to keep coefficients small, thus reducing overfitting and improving generalization.\n",
    "\n",
    "5. n_estimators: This parameter specifies the number of trees in the ensemble. More trees can improve the model’s performance but also increase computational cost and the risk of overfitting if not properly regulated."
   ]
  },
  {
   "cell_type": "code",
   "execution_count": 31,
   "id": "ff9dbebe-c65c-4ef1-b2c3-15dc40ff0125",
   "metadata": {},
   "outputs": [],
   "source": [
    "param_grid ={\n",
    "    'colsample_bytree': [0.3, 0.5, 0.7, 0.9],\n",
    "    'learning_rate'   : [0.001, 0.01, 0.1, 1],\n",
    "    'max_depth'       : [3, 5, 8, 10],\n",
    "    'alpha'           : [1, 10, 100],\n",
    "    'n_estimators'    : [50, 100, 200]\n",
    "}"
   ]
  },
  {
   "cell_type": "code",
   "execution_count": 32,
   "id": "b41e10f2-8df0-4b22-b223-9f6f6fe7fa2f",
   "metadata": {},
   "outputs": [],
   "source": [
    "index= 0\n",
    "\n",
    "answer_grid = {\n",
    "    'combination' : [],\n",
    "    'train_accuracy': [],\n",
    "    'test_accuracy' : [],\n",
    "    'colsample_bytree' : [],\n",
    "    'learning_rate': [],\n",
    "    'max_depth'    : [],\n",
    "    'alpha'        : [],\n",
    "    'n_estimators' : [],\n",
    "}"
   ]
  },
  {
   "cell_type": "code",
   "execution_count": 33,
   "id": "ad06fc29-677a-408a-b3d7-9c6fa4de9cdd",
   "metadata": {},
   "outputs": [],
   "source": [
    "# for colsample_bytree in param_grid['colsample_bytree']:\n",
    "#     for learning_rate in param_grid['learning_rate']:\n",
    "#         for max_depth in param_grid['max_depth']:\n",
    "#             for alpha in param_grid['alpha']:\n",
    "#                 for n_estimators in param_grid['n_estimators']:\n",
    "#                     index = index + 1\n",
    "\n",
    "#                     model = xgb.XGBClassifier(objective='multi:softmax',\n",
    "#                                           num_class=4, \n",
    "#                                           colsample_bytree= colsample_bytree,\n",
    "#                                           learning_rate = learning_rate,\n",
    "#                                           max_depth = max_depth,\n",
    "#                                           n_estimators= n_estimators)\n",
    "\n",
    "#                     y = df_encoded['Approved_Flag']\n",
    "#                     X = df_encoded.drop(['Approved_Flag'], axis=1)\n",
    "\n",
    "#                     label_encoder = LabelEncoder()\n",
    "#                     y_encoded = label_encoder.fit_transform(y)\n",
    "\n",
    "#                     X_train, X_test, y_train, y_test = train_test_split(X, y_encoded, test_size=0.2, random_state=42)\n",
    "\n",
    "#                     model.fit(X_train, y_train)\n",
    "\n",
    "#                     y_pred_train = model.predict(X_train)\n",
    "#                     y_pred_test = model.predict(X_test)\n",
    "\n",
    "#                     train_accuracy = accuracy_score(y_train, y_pred_train)\n",
    "#                     test_accuracy  = accuracy_score(y_test , y_pred_test)\n",
    "\n",
    "#                     answer_grid['combination'].append(index)\n",
    "#                     answer_grid['train_accuracy'].append(train_accuracy)\n",
    "#                     answer_grid['test_accuracy'].append(test_accuracy)\n",
    "#                     answer_grid['colsample_bytree'].append(colsample_bytree)\n",
    "#                     answer_grid['learning_rate'].append(learning_rate)\n",
    "#                     answer_grid['max_depth'].append(max_depth)\n",
    "#                     answer_grid['alpha'].append(alpha)\n",
    "#                     answer_grid['n_estimators'].append(n_estimators)\n",
    "\n",
    "#                     # Print results for this combination\n",
    "#                     print(f\"Combination {index}\")\n",
    "#                     print(f\"colsample_bytree: {colsample_bytree}, learning_rate: {learning_rate}, max_depth: {max_depth}, alpha: {alpha}, n_estimators: {n_estimators}\")\n",
    "#                     print(f\"Train Accuracy: {train_accuracy:.2f}\")\n",
    "#                     print(f\"Test Accuracy : {test_accuracy :.2f}\")\n",
    "#                     print(\"-\" * 30)\n",
    "                \n"
   ]
  },
  {
   "cell_type": "code",
   "execution_count": 34,
   "id": "cde6f3aa-8ccf-424f-97d1-be3eef51473b",
   "metadata": {},
   "outputs": [
    {
     "data": {
      "text/html": [
       "<div>\n",
       "<style scoped>\n",
       "    .dataframe tbody tr th:only-of-type {\n",
       "        vertical-align: middle;\n",
       "    }\n",
       "\n",
       "    .dataframe tbody tr th {\n",
       "        vertical-align: top;\n",
       "    }\n",
       "\n",
       "    .dataframe thead th {\n",
       "        text-align: right;\n",
       "    }\n",
       "</style>\n",
       "<table border=\"1\" class=\"dataframe\">\n",
       "  <thead>\n",
       "    <tr style=\"text-align: right;\">\n",
       "      <th></th>\n",
       "      <th>combination</th>\n",
       "      <th>train_accuracy</th>\n",
       "      <th>test_accuracy</th>\n",
       "      <th>colsample_bytree</th>\n",
       "      <th>learning_rate</th>\n",
       "      <th>max_depth</th>\n",
       "      <th>alpha</th>\n",
       "      <th>n_estimators</th>\n",
       "    </tr>\n",
       "  </thead>\n",
       "  <tbody>\n",
       "  </tbody>\n",
       "</table>\n",
       "</div>"
      ],
      "text/plain": [
       "Empty DataFrame\n",
       "Columns: [combination, train_accuracy, test_accuracy, colsample_bytree, learning_rate, max_depth, alpha, n_estimators]\n",
       "Index: []"
      ]
     },
     "execution_count": 34,
     "metadata": {},
     "output_type": "execute_result"
    }
   ],
   "source": [
    "df_result = pd.DataFrame(answer_grid)\n",
    "df_result.head()"
   ]
  },
  {
   "cell_type": "code",
   "execution_count": 35,
   "id": "377459aa-f786-4a55-93ff-b66ed110b9c7",
   "metadata": {},
   "outputs": [
    {
     "data": {
      "text/plain": [
       "nan"
      ]
     },
     "execution_count": 35,
     "metadata": {},
     "output_type": "execute_result"
    }
   ],
   "source": [
    "df_result['test_accuracy'].max()"
   ]
  },
  {
   "cell_type": "code",
   "execution_count": 36,
   "id": "c20b0591-658a-4c37-b995-722723940b73",
   "metadata": {},
   "outputs": [
    {
     "data": {
      "text/html": [
       "<div>\n",
       "<style scoped>\n",
       "    .dataframe tbody tr th:only-of-type {\n",
       "        vertical-align: middle;\n",
       "    }\n",
       "\n",
       "    .dataframe tbody tr th {\n",
       "        vertical-align: top;\n",
       "    }\n",
       "\n",
       "    .dataframe thead th {\n",
       "        text-align: right;\n",
       "    }\n",
       "</style>\n",
       "<table border=\"1\" class=\"dataframe\">\n",
       "  <thead>\n",
       "    <tr style=\"text-align: right;\">\n",
       "      <th></th>\n",
       "      <th>combination</th>\n",
       "      <th>train_accuracy</th>\n",
       "      <th>test_accuracy</th>\n",
       "      <th>colsample_bytree</th>\n",
       "      <th>learning_rate</th>\n",
       "      <th>max_depth</th>\n",
       "      <th>alpha</th>\n",
       "      <th>n_estimators</th>\n",
       "    </tr>\n",
       "  </thead>\n",
       "  <tbody>\n",
       "  </tbody>\n",
       "</table>\n",
       "</div>"
      ],
      "text/plain": [
       "Empty DataFrame\n",
       "Columns: [combination, train_accuracy, test_accuracy, colsample_bytree, learning_rate, max_depth, alpha, n_estimators]\n",
       "Index: []"
      ]
     },
     "execution_count": 36,
     "metadata": {},
     "output_type": "execute_result"
    }
   ],
   "source": [
    "df_result[df_result['test_accuracy']==0.7806965410673957]"
   ]
  },
  {
   "cell_type": "markdown",
   "id": "b01c63f5-8af2-4943-b37d-e642721346c8",
   "metadata": {},
   "source": [
    "# 6. Tuned Model"
   ]
  },
  {
   "cell_type": "code",
   "execution_count": 37,
   "id": "94c01bf3-b74f-4e82-b962-b6583632ca98",
   "metadata": {},
   "outputs": [],
   "source": [
    "xgb_model = xgb.XGBClassifier(objective='multi:softmax',  \n",
    "                                   num_class=4,\n",
    "                                  colsample_bytree=0.5,\n",
    "                                  learning_rate=1,\n",
    "                                  max_depth=3, \n",
    "                                  alpha=10,\n",
    "                                  n_estimators=50)"
   ]
  },
  {
   "cell_type": "code",
   "execution_count": 38,
   "id": "9828e404-f7c7-4b92-8995-90e98e0407ba",
   "metadata": {},
   "outputs": [],
   "source": [
    "label_encoder = LabelEncoder()\n",
    "y_encoded = label_encoder.fit_transform(y)"
   ]
  },
  {
   "cell_type": "code",
   "execution_count": 39,
   "id": "45cf194e-a22b-4295-bf6d-20fa32c13781",
   "metadata": {},
   "outputs": [],
   "source": [
    "xgb_model.fit(X_train, y_train)\n",
    "y_pred = xgb_model.predict(X_test)"
   ]
  },
  {
   "cell_type": "code",
   "execution_count": 40,
   "id": "6549f4b0-4402-4868-b9c7-739646f43ad7",
   "metadata": {
    "scrolled": true
   },
   "outputs": [
    {
     "name": "stdout",
     "output_type": "stream",
     "text": [
      "\n",
      "0.7811719957209081\n"
     ]
    }
   ],
   "source": [
    "accuracy = accuracy_score(y_test, y_pred)\n",
    "print()\n",
    "print(accuracy)"
   ]
  },
  {
   "cell_type": "code",
   "execution_count": 47,
   "id": "2f085379-295d-4c3a-bd0e-33dc92442bbb",
   "metadata": {},
   "outputs": [],
   "source": [
    "import pickle\n",
    "pickle.dump(xgb_model, open('xgboost_model.pkl', 'wb'))"
   ]
  },
  {
   "cell_type": "code",
   "execution_count": 46,
   "id": "b1d686c7-1e04-4615-b679-1257b2399c9a",
   "metadata": {},
   "outputs": [
    {
     "data": {
      "text/plain": [
       "{0, 1, 2, 3}"
      ]
     },
     "execution_count": 46,
     "metadata": {},
     "output_type": "execute_result"
    }
   ],
   "source": [
    "y=set(y_pred)\n",
    "y"
   ]
  },
  {
   "cell_type": "code",
   "execution_count": null,
   "id": "d2dfe6f5-444b-483a-a435-c624b4f56960",
   "metadata": {},
   "outputs": [],
   "source": []
  }
 ],
 "metadata": {
  "kernelspec": {
   "display_name": "Python 3 (ipykernel)",
   "language": "python",
   "name": "python3"
  },
  "language_info": {
   "codemirror_mode": {
    "name": "ipython",
    "version": 3
   },
   "file_extension": ".py",
   "mimetype": "text/x-python",
   "name": "python",
   "nbconvert_exporter": "python",
   "pygments_lexer": "ipython3",
   "version": "3.11.4"
  }
 },
 "nbformat": 4,
 "nbformat_minor": 5
}
